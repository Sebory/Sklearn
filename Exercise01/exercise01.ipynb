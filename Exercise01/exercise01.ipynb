{
  "nbformat": 4,
  "nbformat_minor": 0,
  "metadata": {
    "colab": {
      "provenance": [],
      "machine_shape": "hm",
      "authorship_tag": "ABX9TyOI0j9LGBOZ4npIPE09up3h",
      "include_colab_link": true
    },
    "kernelspec": {
      "name": "python3",
      "display_name": "Python 3"
    },
    "language_info": {
      "name": "python"
    },
    "accelerator": "GPU",
    "gpuClass": "premium"
  },
  "cells": [
    {
      "cell_type": "markdown",
      "metadata": {
        "id": "view-in-github",
        "colab_type": "text"
      },
      "source": [
        "<a href=\"https://colab.research.google.com/github/Sebory/Sklearn/blob/main/Exercise01/exercise01.ipynb\" target=\"_parent\"><img src=\"https://colab.research.google.com/assets/colab-badge.svg\" alt=\"Open In Colab\"/></a>"
      ]
    },
    {
      "cell_type": "code",
      "execution_count": 3,
      "metadata": {
        "colab": {
          "base_uri": "https://localhost:8080/"
        },
        "id": "gBHx714XMDbC",
        "outputId": "c8e77cdb-8b12-4511-9892-bf3c3a6139b7"
      },
      "outputs": [
        {
          "output_type": "stream",
          "name": "stdout",
          "text": [
            "Cloning into 'Sklearn'...\n",
            "remote: Enumerating objects: 24, done.\u001b[K\n",
            "remote: Counting objects: 100% (24/24), done.\u001b[K\n",
            "remote: Compressing objects: 100% (16/16), done.\u001b[K\n",
            "remote: Total 24 (delta 2), reused 0 (delta 0), pack-reused 0\u001b[K\n",
            "Unpacking objects: 100% (24/24), 282.23 KiB | 2.91 MiB/s, done.\n"
          ]
        }
      ],
      "source": [
        "!git clone https://github.com/Sebory/Sklearn.git"
      ]
    },
    {
      "cell_type": "code",
      "source": [
        "class Sentiment:\n",
        "  NEGATIVE = \"NEGATIVE\"\n",
        "  NEUTRAL = \"NEUTRAL\"\n",
        "  POSITIVE = \"POSITIVE\"\n",
        "\n",
        "class Review:\n",
        "  def __init__(self, text, score):\n",
        "    self.text = text\n",
        "    self.score = score\n",
        "    self.sentiment = self.get_sentiment()\n",
        "\n",
        "  def get_sentiment(self):\n",
        "    if self.score <= 2:\n",
        "        return Sentiment.NEGATIVE\n",
        "    elif self.score == 3:\n",
        "        return Sentiment.NEUTRAL\n",
        "    else: # score equal to 4 or 5\n",
        "        return Sentiment.POSITIVE"
      ],
      "metadata": {
        "id": "4_PrkCSWm0-e"
      },
      "execution_count": 4,
      "outputs": []
    },
    {
      "cell_type": "markdown",
      "source": [
        "# Load Data"
      ],
      "metadata": {
        "id": "_cfFYLJPe09o"
      }
    },
    {
      "cell_type": "code",
      "source": [
        "import json\n",
        "\n",
        "file_name = \"/content/Sklearn/Exercise01/Books_small.json\"\n",
        "\n",
        "reviews = []\n",
        "with open(file_name) as f:\n",
        "  for line in f:\n",
        "    review = json.loads(line)\n",
        "    reviews.append(Review(review[\"reviewText\"], review[\"overall\"]))\n",
        "\n",
        "reviews[23].score\n"
      ],
      "metadata": {
        "colab": {
          "base_uri": "https://localhost:8080/"
        },
        "id": "WCMi2XDkgZOR",
        "outputId": "c06bf8b3-daee-4de6-9d29-e7f486ac857a"
      },
      "execution_count": 5,
      "outputs": [
        {
          "output_type": "execute_result",
          "data": {
            "text/plain": [
              "4.0"
            ]
          },
          "metadata": {},
          "execution_count": 5
        }
      ]
    },
    {
      "cell_type": "markdown",
      "source": [
        "# Prepare Data"
      ],
      "metadata": {
        "id": "a1Z47PskfIiw"
      }
    },
    {
      "cell_type": "code",
      "source": [
        "len(reviews)"
      ],
      "metadata": {
        "colab": {
          "base_uri": "https://localhost:8080/"
        },
        "id": "fhbAxq8-hPt0",
        "outputId": "a82c5b44-d02d-4240-d98c-2c29a3dbd571"
      },
      "execution_count": 6,
      "outputs": [
        {
          "output_type": "execute_result",
          "data": {
            "text/plain": [
              "1000"
            ]
          },
          "metadata": {},
          "execution_count": 6
        }
      ]
    },
    {
      "cell_type": "code",
      "source": [
        "from sklearn.model_selection import train_test_split"
      ],
      "metadata": {
        "id": "u6D89prohXfG"
      },
      "execution_count": 7,
      "outputs": []
    },
    {
      "cell_type": "code",
      "source": [
        "training, test = train_test_split(reviews, test_size=0.33, random_state=42)"
      ],
      "metadata": {
        "id": "C5BJVl7Cf4-r"
      },
      "execution_count": 8,
      "outputs": []
    },
    {
      "cell_type": "code",
      "source": [
        "print(training[0].sentiment)"
      ],
      "metadata": {
        "colab": {
          "base_uri": "https://localhost:8080/"
        },
        "id": "plLqIq-2dw_K",
        "outputId": "fdc50be9-1d23-4d30-e60a-19c903d7ea2a"
      },
      "execution_count": 9,
      "outputs": [
        {
          "output_type": "stream",
          "name": "stdout",
          "text": [
            "POSITIVE\n"
          ]
        }
      ]
    },
    {
      "cell_type": "code",
      "source": [
        "print(test[0].sentiment)"
      ],
      "metadata": {
        "colab": {
          "base_uri": "https://localhost:8080/"
        },
        "id": "xWjDJdbYfzIW",
        "outputId": "124a411e-636c-4bfe-85fc-8a81ca597c53"
      },
      "execution_count": 10,
      "outputs": [
        {
          "output_type": "stream",
          "name": "stdout",
          "text": [
            "POSITIVE\n"
          ]
        }
      ]
    },
    {
      "cell_type": "code",
      "source": [
        "train_x = [x.text for x in training]\n",
        "train_y = [x.sentiment for x in training]\n",
        "\n",
        "test_x = [x.text for x in test]\n",
        "test_y = [x.sentiment for x in test]\n",
        "\n",
        "print(train_x[0])\n",
        "print(train_y[0])"
      ],
      "metadata": {
        "colab": {
          "base_uri": "https://localhost:8080/"
        },
        "id": "TK05IahLeBVz",
        "outputId": "1d0e5e4b-ef59-4c3e-a5c9-ba7e181f76ea"
      },
      "execution_count": 11,
      "outputs": [
        {
          "output_type": "stream",
          "name": "stdout",
          "text": [
            "Vivid characters and descriptions. The author has created a tale that grabs your attention and I couldn't put it down.\n",
            "POSITIVE\n"
          ]
        }
      ]
    },
    {
      "cell_type": "markdown",
      "source": [
        "# Bag of words vectlorization"
      ],
      "metadata": {
        "id": "nXrh7UPRhi71"
      }
    },
    {
      "cell_type": "code",
      "source": [
        "from sklearn.feature_extraction.text import CountVectorizer\n",
        "\n",
        "vectorizer = CountVectorizer()\n",
        "train_x_vectors = vectorizer.fit_transform(train_x)\n",
        "test_x_vectors = vectorizer.transform(test_x)\n",
        "\n",
        "print(train_x[0])\n",
        "print(train_x_vectors[0].toarray())\n",
        "\n",
        "# train_x_vectors\n",
        "# train_y"
      ],
      "metadata": {
        "colab": {
          "base_uri": "https://localhost:8080/"
        },
        "id": "xCCwg9R3gkUW",
        "outputId": "5aeacd51-5911-461f-f2fe-cf754ff503bf"
      },
      "execution_count": 14,
      "outputs": [
        {
          "output_type": "stream",
          "name": "stdout",
          "text": [
            "Vivid characters and descriptions. The author has created a tale that grabs your attention and I couldn't put it down.\n",
            "[[0 0 0 ... 0 0 0]]\n"
          ]
        }
      ]
    },
    {
      "cell_type": "markdown",
      "source": [
        "# **Classification**"
      ],
      "metadata": {
        "id": "Fb3UWVGsQDqu"
      }
    },
    {
      "cell_type": "markdown",
      "source": [
        "### Linear SVM\n"
      ],
      "metadata": {
        "id": "yZi5k-nuQSRw"
      }
    },
    {
      "cell_type": "code",
      "source": [
        "from sklearn import svm\n",
        "\n",
        " "
      ],
      "metadata": {
        "id": "5HxPZ44a1Aro"
      },
      "execution_count": 13,
      "outputs": []
    },
    {
      "cell_type": "code",
      "source": [],
      "metadata": {
        "id": "rKCjCyYbQ-5J"
      },
      "execution_count": 13,
      "outputs": []
    }
  ]
}